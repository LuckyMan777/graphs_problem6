{
 "cells": [
  {
   "cell_type": "code",
   "execution_count": 6,
   "metadata": {
    "scrolled": false
   },
   "outputs": [
    {
     "data": {
      "image/png": "[encoded data removed]",
      "text/plain": [
       "<matplotlib.figure.Figure at 0x21e108765c0>"
      ]
     },
     "metadata": {},
     "output_type": "display_data"
    }
   ],
   "source": [
    "\n",
    "\n",
    "#%%writefile source.py\n",
    "\n",
    "import matplotlib.pyplot as plt\n",
    "import numpy as np\n",
    "%matplotlib inline\n",
    "\n",
    "def generate(n):\n",
    "    return 0\n",
    "\n",
    "def load(fname):\n",
    "    with open(fname, 'r') as f:\n",
    "        nk = list(map(lambda x: int(x), f.readline().split(' ')))\n",
    "        n = nk[0]\n",
    "        k = nk[1]\n",
    "\n",
    "        string = f.readline().split(' ')\n",
    "        pvk_ys = list(map(lambda x: int(x), string))\n",
    "        string = f.readline().split(' ')\n",
    "        pvk_xs = list(map(lambda x: int(x), string))\n",
    " \n",
    "        string = f.readline().split(' ')\n",
    "        pin_ys = list(map(lambda x: int(x), string))\n",
    "        string = f.readline().split(' ')\n",
    "        pin_xs = list(map(lambda x: int(x), string))\n",
    "        \n",
    "    return n, k, pvk_xs, pvk_ys, pin_xs, pin_ys\n",
    "\n",
    "def visualize(n, k, pvk_xs, pvk_ys, pin_xs, pin_ys, title):\n",
    "\n",
    "    plt.figure(figsize=(8,8))\n",
    "    ax = plt.gca()\n",
    "    ax.cla() # clear things for fresh plot\n",
    "\n",
    "    ax.set_xlim((0, n-1))\n",
    "    ax.set_ylim((0, n-1))\n",
    "    ax.xaxis.set_ticks(range(n))\n",
    "    ax.yaxis.set_ticks(range(n))\n",
    "    \n",
    "    for i in range(k):\n",
    "        circle1 = plt.Circle((pvk_xs[i], pvk_ys[i]), 0.2, color='black')\n",
    "        circle2 = plt.Circle((pin_xs[i], pin_ys[i]), 0.2, color='r')\n",
    "        ax.add_artist(circle1)\n",
    "        ax.add_artist(circle2)\n",
    "        ax.text (pvk_xs[i]-0.2, pvk_ys[i], str(pvk_xs[i] + pvk_ys[i]*n), color=\"1\")\n",
    "        ax.text (pin_xs[i]-0.2, pin_ys[i], str(pin_xs[i] + pin_ys[i]*n), color=\"1\")\n",
    "        \n",
    "    for x in range(n):\n",
    "        for y in range(n):\n",
    "            ax.text(x, y, str(x + y*n), color=\"0\")\n",
    "        \n",
    "    plt.grid()\n",
    "    plt.show()    \n",
    "\n",
    "#folder = 'D:\\\\Temp\\\\1\\\\1\\\\tests\\\\'\n",
    "for fname in ['input.txt']:\n",
    "    #fname = ('00%d.in'%i)[-6:]\n",
    "    n, k, pvk_xs, pvk_ys, pin_xs, pin_ys = load(fname)\n",
    "    visualize(n, k, pvk_xs, pvk_ys, pin_xs, pin_ys, fname)\n"
   ]
  },
  {
   "cell_type": "code",
   "execution_count": 7,
   "metadata": {},
   "outputs": [
    {
     "data": {
      "text/plain": [
       "1"
      ]
     },
     "execution_count": 7,
     "metadata": {},
     "output_type": "execute_result"
    }
   ],
   "source": [
    "n"
   ]
  },
  {
   "cell_type": "code",
   "execution_count": 6,
   "metadata": {},
   "outputs": [
    {
     "data": {
      "text/plain": [
       "[[43, 92, 74, -58],\n",
       " [-86, 31, 91, -30],\n",
       " [9, 69, -83, 17],\n",
       " [69, 48, 15, 36],\n",
       " [-20, -33, -16, 66],\n",
       " [-81, 65, 17, -61],\n",
       " [17, -61, 66, 15],\n",
       " [-91, -2, 56, 97],\n",
       " [0, 36, 43, 92],\n",
       " [74, -60, -86, 31],\n",
       " [61, -56, 74, -58],\n",
       " [-24, 28, -15, 28],\n",
       " [-43, -20, 0, 10]]"
      ]
     },
     "execution_count": 6,
     "metadata": {},
     "output_type": "execute_result"
    }
   ],
   "source": [
    "segs"
   ]
  },
  {
   "cell_type": "code",
   "execution_count": null,
   "metadata": {
    "collapsed": true
   },
   "outputs": [],
   "source": []
  }
 ],
 "metadata": {
  "kernelspec": {
   "display_name": "Python 3",
   "language": "python",
   "name": "python3"
  },
  "language_info": {
   "codemirror_mode": {
    "name": "ipython",
    "version": 3
   },
   "file_extension": ".py",
   "mimetype": "text/x-python",
   "name": "python",
   "nbconvert_exporter": "python",
   "pygments_lexer": "ipython3",
   "version": "3.6.3"
  }
 },
 "nbformat": 4,
 "nbformat_minor": 1
}
